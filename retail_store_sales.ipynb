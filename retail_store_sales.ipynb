{
 "cells": [
  {
   "cell_type": "markdown",
   "id": "657f47c7",
   "metadata": {},
   "source": [
    "# Import Libraries and Load Dataset\n",
    "The dataset is sourced from: https://www.kaggle.com/datasets/ahmedmohamed2003/retail-store-sales-dirty-for-data-cleaning/data"
   ]
  },
  {
   "cell_type": "code",
   "execution_count": 1,
   "id": "7a823c9d",
   "metadata": {},
   "outputs": [],
   "source": [
    "import pandas as pd"
   ]
  },
  {
   "cell_type": "code",
   "execution_count": 2,
   "id": "8f719238",
   "metadata": {},
   "outputs": [],
   "source": [
    "df = pd.read_csv(r'D:\\REGINA\\yesgo\\0 NEW\\retail_store_sales.csv')"
   ]
  },
  {
   "cell_type": "markdown",
   "id": "d4ead79f",
   "metadata": {},
   "source": [
    "# Initial Data Analysis"
   ]
  },
  {
   "cell_type": "markdown",
   "id": "2c32c40f",
   "metadata": {},
   "source": [
    "## Dataset Overview"
   ]
  },
  {
   "cell_type": "code",
   "execution_count": 3,
   "id": "bd96dd6e",
   "metadata": {},
   "outputs": [
    {
     "data": {
      "text/html": [
       "<div>\n",
       "<style scoped>\n",
       "    .dataframe tbody tr th:only-of-type {\n",
       "        vertical-align: middle;\n",
       "    }\n",
       "\n",
       "    .dataframe tbody tr th {\n",
       "        vertical-align: top;\n",
       "    }\n",
       "\n",
       "    .dataframe thead th {\n",
       "        text-align: right;\n",
       "    }\n",
       "</style>\n",
       "<table border=\"1\" class=\"dataframe\">\n",
       "  <thead>\n",
       "    <tr style=\"text-align: right;\">\n",
       "      <th></th>\n",
       "      <th>Transaction ID</th>\n",
       "      <th>Customer ID</th>\n",
       "      <th>Category</th>\n",
       "      <th>Item</th>\n",
       "      <th>Price Per Unit</th>\n",
       "      <th>Quantity</th>\n",
       "      <th>Total Spent</th>\n",
       "      <th>Payment Method</th>\n",
       "      <th>Location</th>\n",
       "      <th>Transaction Date</th>\n",
       "      <th>Discount Applied</th>\n",
       "    </tr>\n",
       "  </thead>\n",
       "  <tbody>\n",
       "    <tr>\n",
       "      <th>0</th>\n",
       "      <td>TXN_6867343</td>\n",
       "      <td>CUST_09</td>\n",
       "      <td>Patisserie</td>\n",
       "      <td>Item_10_PAT</td>\n",
       "      <td>18.5</td>\n",
       "      <td>10.0</td>\n",
       "      <td>185.0</td>\n",
       "      <td>Digital Wallet</td>\n",
       "      <td>Online</td>\n",
       "      <td>2024-04-08</td>\n",
       "      <td>True</td>\n",
       "    </tr>\n",
       "    <tr>\n",
       "      <th>1</th>\n",
       "      <td>TXN_3731986</td>\n",
       "      <td>CUST_22</td>\n",
       "      <td>Milk Products</td>\n",
       "      <td>Item_17_MILK</td>\n",
       "      <td>29.0</td>\n",
       "      <td>9.0</td>\n",
       "      <td>261.0</td>\n",
       "      <td>Digital Wallet</td>\n",
       "      <td>Online</td>\n",
       "      <td>2023-07-23</td>\n",
       "      <td>True</td>\n",
       "    </tr>\n",
       "    <tr>\n",
       "      <th>2</th>\n",
       "      <td>TXN_9303719</td>\n",
       "      <td>CUST_02</td>\n",
       "      <td>Butchers</td>\n",
       "      <td>Item_12_BUT</td>\n",
       "      <td>21.5</td>\n",
       "      <td>2.0</td>\n",
       "      <td>43.0</td>\n",
       "      <td>Credit Card</td>\n",
       "      <td>Online</td>\n",
       "      <td>2022-10-05</td>\n",
       "      <td>False</td>\n",
       "    </tr>\n",
       "    <tr>\n",
       "      <th>3</th>\n",
       "      <td>TXN_9458126</td>\n",
       "      <td>CUST_06</td>\n",
       "      <td>Beverages</td>\n",
       "      <td>Item_16_BEV</td>\n",
       "      <td>27.5</td>\n",
       "      <td>9.0</td>\n",
       "      <td>247.5</td>\n",
       "      <td>Credit Card</td>\n",
       "      <td>Online</td>\n",
       "      <td>2022-05-07</td>\n",
       "      <td>NaN</td>\n",
       "    </tr>\n",
       "    <tr>\n",
       "      <th>4</th>\n",
       "      <td>TXN_4575373</td>\n",
       "      <td>CUST_05</td>\n",
       "      <td>Food</td>\n",
       "      <td>Item_6_FOOD</td>\n",
       "      <td>12.5</td>\n",
       "      <td>7.0</td>\n",
       "      <td>87.5</td>\n",
       "      <td>Digital Wallet</td>\n",
       "      <td>Online</td>\n",
       "      <td>2022-10-02</td>\n",
       "      <td>False</td>\n",
       "    </tr>\n",
       "    <tr>\n",
       "      <th>5</th>\n",
       "      <td>TXN_7482416</td>\n",
       "      <td>CUST_09</td>\n",
       "      <td>Patisserie</td>\n",
       "      <td>NaN</td>\n",
       "      <td>NaN</td>\n",
       "      <td>10.0</td>\n",
       "      <td>200.0</td>\n",
       "      <td>Credit Card</td>\n",
       "      <td>Online</td>\n",
       "      <td>2023-11-30</td>\n",
       "      <td>NaN</td>\n",
       "    </tr>\n",
       "    <tr>\n",
       "      <th>6</th>\n",
       "      <td>TXN_3652209</td>\n",
       "      <td>CUST_07</td>\n",
       "      <td>Food</td>\n",
       "      <td>Item_1_FOOD</td>\n",
       "      <td>5.0</td>\n",
       "      <td>8.0</td>\n",
       "      <td>40.0</td>\n",
       "      <td>Credit Card</td>\n",
       "      <td>In-store</td>\n",
       "      <td>2023-06-10</td>\n",
       "      <td>True</td>\n",
       "    </tr>\n",
       "    <tr>\n",
       "      <th>7</th>\n",
       "      <td>TXN_1372952</td>\n",
       "      <td>CUST_21</td>\n",
       "      <td>Furniture</td>\n",
       "      <td>NaN</td>\n",
       "      <td>33.5</td>\n",
       "      <td>NaN</td>\n",
       "      <td>NaN</td>\n",
       "      <td>Digital Wallet</td>\n",
       "      <td>In-store</td>\n",
       "      <td>2024-04-02</td>\n",
       "      <td>True</td>\n",
       "    </tr>\n",
       "    <tr>\n",
       "      <th>8</th>\n",
       "      <td>TXN_9728486</td>\n",
       "      <td>CUST_23</td>\n",
       "      <td>Furniture</td>\n",
       "      <td>Item_16_FUR</td>\n",
       "      <td>27.5</td>\n",
       "      <td>1.0</td>\n",
       "      <td>27.5</td>\n",
       "      <td>Credit Card</td>\n",
       "      <td>In-store</td>\n",
       "      <td>2023-04-26</td>\n",
       "      <td>False</td>\n",
       "    </tr>\n",
       "    <tr>\n",
       "      <th>9</th>\n",
       "      <td>TXN_2722661</td>\n",
       "      <td>CUST_25</td>\n",
       "      <td>Butchers</td>\n",
       "      <td>Item_22_BUT</td>\n",
       "      <td>36.5</td>\n",
       "      <td>3.0</td>\n",
       "      <td>109.5</td>\n",
       "      <td>Cash</td>\n",
       "      <td>Online</td>\n",
       "      <td>2024-03-14</td>\n",
       "      <td>False</td>\n",
       "    </tr>\n",
       "  </tbody>\n",
       "</table>\n",
       "</div>"
      ],
      "text/plain": [
       "  Transaction ID Customer ID       Category          Item  Price Per Unit  \\\n",
       "0    TXN_6867343     CUST_09     Patisserie   Item_10_PAT            18.5   \n",
       "1    TXN_3731986     CUST_22  Milk Products  Item_17_MILK            29.0   \n",
       "2    TXN_9303719     CUST_02       Butchers   Item_12_BUT            21.5   \n",
       "3    TXN_9458126     CUST_06      Beverages   Item_16_BEV            27.5   \n",
       "4    TXN_4575373     CUST_05           Food   Item_6_FOOD            12.5   \n",
       "5    TXN_7482416     CUST_09     Patisserie           NaN             NaN   \n",
       "6    TXN_3652209     CUST_07           Food   Item_1_FOOD             5.0   \n",
       "7    TXN_1372952     CUST_21      Furniture           NaN            33.5   \n",
       "8    TXN_9728486     CUST_23      Furniture   Item_16_FUR            27.5   \n",
       "9    TXN_2722661     CUST_25       Butchers   Item_22_BUT            36.5   \n",
       "\n",
       "   Quantity  Total Spent  Payment Method  Location Transaction Date  \\\n",
       "0      10.0        185.0  Digital Wallet    Online       2024-04-08   \n",
       "1       9.0        261.0  Digital Wallet    Online       2023-07-23   \n",
       "2       2.0         43.0     Credit Card    Online       2022-10-05   \n",
       "3       9.0        247.5     Credit Card    Online       2022-05-07   \n",
       "4       7.0         87.5  Digital Wallet    Online       2022-10-02   \n",
       "5      10.0        200.0     Credit Card    Online       2023-11-30   \n",
       "6       8.0         40.0     Credit Card  In-store       2023-06-10   \n",
       "7       NaN          NaN  Digital Wallet  In-store       2024-04-02   \n",
       "8       1.0         27.5     Credit Card  In-store       2023-04-26   \n",
       "9       3.0        109.5            Cash    Online       2024-03-14   \n",
       "\n",
       "  Discount Applied  \n",
       "0             True  \n",
       "1             True  \n",
       "2            False  \n",
       "3              NaN  \n",
       "4            False  \n",
       "5              NaN  \n",
       "6             True  \n",
       "7             True  \n",
       "8            False  \n",
       "9            False  "
      ]
     },
     "execution_count": 3,
     "metadata": {},
     "output_type": "execute_result"
    }
   ],
   "source": [
    "df.head(10)"
   ]
  },
  {
   "cell_type": "code",
   "execution_count": 4,
   "id": "f7bd7b76",
   "metadata": {},
   "outputs": [
    {
     "name": "stdout",
     "output_type": "stream",
     "text": [
      "<class 'pandas.core.frame.DataFrame'>\n",
      "RangeIndex: 12575 entries, 0 to 12574\n",
      "Data columns (total 11 columns):\n",
      " #   Column            Non-Null Count  Dtype  \n",
      "---  ------            --------------  -----  \n",
      " 0   Transaction ID    12575 non-null  object \n",
      " 1   Customer ID       12575 non-null  object \n",
      " 2   Category          12575 non-null  object \n",
      " 3   Item              11362 non-null  object \n",
      " 4   Price Per Unit    11966 non-null  float64\n",
      " 5   Quantity          11971 non-null  float64\n",
      " 6   Total Spent       11971 non-null  float64\n",
      " 7   Payment Method    12575 non-null  object \n",
      " 8   Location          12575 non-null  object \n",
      " 9   Transaction Date  12575 non-null  object \n",
      " 10  Discount Applied  8376 non-null   object \n",
      "dtypes: float64(3), object(8)\n",
      "memory usage: 1.1+ MB\n"
     ]
    }
   ],
   "source": [
    "df.info()"
   ]
  },
  {
   "cell_type": "markdown",
   "id": "bd1a234b",
   "metadata": {},
   "source": [
    "The dataset consists of 12,575 entries with 11 columns. Here is a brief description of each column:\n",
    "\n",
    "- Transaction ID: A unique identifier for each transaction. Always present and unique.\n",
    "- Customer ID: A unique identifier for each customer. Always present and unique.\n",
    "- Category: The category of the purchased item.\n",
    "- Item: The name of the purchased item. This column has some missing values, with 11,362 non-null entries out of 12,575.\n",
    "- Price Per Unit: The static price of a single unit of the item. This column has some missing values, with 11,966 non-null entries.\n",
    "- Quantity: The quantity of the purchased item. This column has some missing values, with 11,971 non-null entries.\n",
    "- Total Spent: The total amount spent on the transaction, calculated as Quantity × Price Per Unit. This column has some missing values, with 11,971 non-null entries.\n",
    "- Payment Method: The method of payment used.\n",
    "- Location: The location where the transaction took place.\n",
    "- Transaction Date: The date of the transaction.\n",
    "- Discount Applied: Whether a discount was applied (True/False). This column has some missing values, with 8,376 non-null entries."
   ]
  },
  {
   "cell_type": "markdown",
   "id": "19f1061a",
   "metadata": {},
   "source": [
    "## Summary Statistics"
   ]
  },
  {
   "cell_type": "code",
   "execution_count": 5,
   "id": "29116629",
   "metadata": {},
   "outputs": [
    {
     "data": {
      "text/html": [
       "<div>\n",
       "<style scoped>\n",
       "    .dataframe tbody tr th:only-of-type {\n",
       "        vertical-align: middle;\n",
       "    }\n",
       "\n",
       "    .dataframe tbody tr th {\n",
       "        vertical-align: top;\n",
       "    }\n",
       "\n",
       "    .dataframe thead th {\n",
       "        text-align: right;\n",
       "    }\n",
       "</style>\n",
       "<table border=\"1\" class=\"dataframe\">\n",
       "  <thead>\n",
       "    <tr style=\"text-align: right;\">\n",
       "      <th></th>\n",
       "      <th>Price Per Unit</th>\n",
       "      <th>Quantity</th>\n",
       "      <th>Total Spent</th>\n",
       "    </tr>\n",
       "  </thead>\n",
       "  <tbody>\n",
       "    <tr>\n",
       "      <th>count</th>\n",
       "      <td>11966.000000</td>\n",
       "      <td>11971.000000</td>\n",
       "      <td>11971.000000</td>\n",
       "    </tr>\n",
       "    <tr>\n",
       "      <th>mean</th>\n",
       "      <td>23.365912</td>\n",
       "      <td>5.536380</td>\n",
       "      <td>129.652577</td>\n",
       "    </tr>\n",
       "    <tr>\n",
       "      <th>std</th>\n",
       "      <td>10.743519</td>\n",
       "      <td>2.857883</td>\n",
       "      <td>94.750697</td>\n",
       "    </tr>\n",
       "    <tr>\n",
       "      <th>min</th>\n",
       "      <td>5.000000</td>\n",
       "      <td>1.000000</td>\n",
       "      <td>5.000000</td>\n",
       "    </tr>\n",
       "    <tr>\n",
       "      <th>25%</th>\n",
       "      <td>14.000000</td>\n",
       "      <td>3.000000</td>\n",
       "      <td>51.000000</td>\n",
       "    </tr>\n",
       "    <tr>\n",
       "      <th>50%</th>\n",
       "      <td>23.000000</td>\n",
       "      <td>6.000000</td>\n",
       "      <td>108.500000</td>\n",
       "    </tr>\n",
       "    <tr>\n",
       "      <th>75%</th>\n",
       "      <td>33.500000</td>\n",
       "      <td>8.000000</td>\n",
       "      <td>192.000000</td>\n",
       "    </tr>\n",
       "    <tr>\n",
       "      <th>max</th>\n",
       "      <td>41.000000</td>\n",
       "      <td>10.000000</td>\n",
       "      <td>410.000000</td>\n",
       "    </tr>\n",
       "  </tbody>\n",
       "</table>\n",
       "</div>"
      ],
      "text/plain": [
       "       Price Per Unit      Quantity   Total Spent\n",
       "count    11966.000000  11971.000000  11971.000000\n",
       "mean        23.365912      5.536380    129.652577\n",
       "std         10.743519      2.857883     94.750697\n",
       "min          5.000000      1.000000      5.000000\n",
       "25%         14.000000      3.000000     51.000000\n",
       "50%         23.000000      6.000000    108.500000\n",
       "75%         33.500000      8.000000    192.000000\n",
       "max         41.000000     10.000000    410.000000"
      ]
     },
     "execution_count": 5,
     "metadata": {},
     "output_type": "execute_result"
    }
   ],
   "source": [
    "# Summary statistics for numerical variables\n",
    "df.describe()"
   ]
  },
  {
   "cell_type": "code",
   "execution_count": 6,
   "id": "efcf9d67",
   "metadata": {},
   "outputs": [
    {
     "data": {
      "text/html": [
       "<div>\n",
       "<style scoped>\n",
       "    .dataframe tbody tr th:only-of-type {\n",
       "        vertical-align: middle;\n",
       "    }\n",
       "\n",
       "    .dataframe tbody tr th {\n",
       "        vertical-align: top;\n",
       "    }\n",
       "\n",
       "    .dataframe thead th {\n",
       "        text-align: right;\n",
       "    }\n",
       "</style>\n",
       "<table border=\"1\" class=\"dataframe\">\n",
       "  <thead>\n",
       "    <tr style=\"text-align: right;\">\n",
       "      <th></th>\n",
       "      <th>Transaction ID</th>\n",
       "      <th>Customer ID</th>\n",
       "      <th>Category</th>\n",
       "      <th>Item</th>\n",
       "      <th>Payment Method</th>\n",
       "      <th>Location</th>\n",
       "      <th>Transaction Date</th>\n",
       "      <th>Discount Applied</th>\n",
       "    </tr>\n",
       "  </thead>\n",
       "  <tbody>\n",
       "    <tr>\n",
       "      <th>count</th>\n",
       "      <td>12575</td>\n",
       "      <td>12575</td>\n",
       "      <td>12575</td>\n",
       "      <td>11362</td>\n",
       "      <td>12575</td>\n",
       "      <td>12575</td>\n",
       "      <td>12575</td>\n",
       "      <td>8376</td>\n",
       "    </tr>\n",
       "    <tr>\n",
       "      <th>unique</th>\n",
       "      <td>12575</td>\n",
       "      <td>25</td>\n",
       "      <td>8</td>\n",
       "      <td>200</td>\n",
       "      <td>3</td>\n",
       "      <td>2</td>\n",
       "      <td>1114</td>\n",
       "      <td>2</td>\n",
       "    </tr>\n",
       "    <tr>\n",
       "      <th>top</th>\n",
       "      <td>TXN_6867343</td>\n",
       "      <td>CUST_05</td>\n",
       "      <td>Furniture</td>\n",
       "      <td>Item_2_BEV</td>\n",
       "      <td>Cash</td>\n",
       "      <td>Online</td>\n",
       "      <td>2022-05-30</td>\n",
       "      <td>True</td>\n",
       "    </tr>\n",
       "    <tr>\n",
       "      <th>freq</th>\n",
       "      <td>1</td>\n",
       "      <td>544</td>\n",
       "      <td>1591</td>\n",
       "      <td>126</td>\n",
       "      <td>4310</td>\n",
       "      <td>6354</td>\n",
       "      <td>26</td>\n",
       "      <td>4219</td>\n",
       "    </tr>\n",
       "  </tbody>\n",
       "</table>\n",
       "</div>"
      ],
      "text/plain": [
       "       Transaction ID Customer ID   Category        Item Payment Method  \\\n",
       "count           12575       12575      12575       11362          12575   \n",
       "unique          12575          25          8         200              3   \n",
       "top       TXN_6867343     CUST_05  Furniture  Item_2_BEV           Cash   \n",
       "freq                1         544       1591         126           4310   \n",
       "\n",
       "       Location Transaction Date Discount Applied  \n",
       "count     12575            12575             8376  \n",
       "unique        2             1114                2  \n",
       "top      Online       2022-05-30             True  \n",
       "freq       6354               26             4219  "
      ]
     },
     "execution_count": 6,
     "metadata": {},
     "output_type": "execute_result"
    }
   ],
   "source": [
    "# Summary statistics for categorical variables\n",
    "df.describe(include='object')"
   ]
  },
  {
   "cell_type": "code",
   "execution_count": 7,
   "id": "8c9b23b4",
   "metadata": {},
   "outputs": [
    {
     "data": {
      "text/plain": [
       "array(['Patisserie', 'Milk Products', 'Butchers', 'Beverages', 'Food',\n",
       "       'Furniture', 'Electric household essentials',\n",
       "       'Computers and electric accessories'], dtype=object)"
      ]
     },
     "execution_count": 7,
     "metadata": {},
     "output_type": "execute_result"
    }
   ],
   "source": [
    "df['Category'].unique()"
   ]
  },
  {
   "cell_type": "code",
   "execution_count": 8,
   "id": "7cb67201",
   "metadata": {},
   "outputs": [
    {
     "data": {
      "text/plain": [
       "array(['Digital Wallet', 'Credit Card', 'Cash'], dtype=object)"
      ]
     },
     "execution_count": 8,
     "metadata": {},
     "output_type": "execute_result"
    }
   ],
   "source": [
    "df['Payment Method'].unique()"
   ]
  },
  {
   "cell_type": "code",
   "execution_count": 9,
   "id": "a29b94de",
   "metadata": {},
   "outputs": [
    {
     "data": {
      "text/plain": [
       "array(['Online', 'In-store'], dtype=object)"
      ]
     },
     "execution_count": 9,
     "metadata": {},
     "output_type": "execute_result"
    }
   ],
   "source": [
    "df['Location'].unique()"
   ]
  },
  {
   "cell_type": "code",
   "execution_count": 10,
   "id": "27cf45e1",
   "metadata": {},
   "outputs": [
    {
     "data": {
      "text/plain": [
       "array([True, False, nan], dtype=object)"
      ]
     },
     "execution_count": 10,
     "metadata": {},
     "output_type": "execute_result"
    }
   ],
   "source": [
    "df['Discount Applied'].unique()"
   ]
  },
  {
   "cell_type": "markdown",
   "id": "d42ad7d9",
   "metadata": {},
   "source": [
    "- Price Per Unit: Only 11,966 non-null entries, indicating missing values that need to be addressed. The average price per unit is \\\\$23.36, ranging from \\\\$5 to \\\\$41.\n",
    "- Quantity: Only 11,971 non-null entries, meaning there are missing values to be addressed. The average quantity purchased is 5.5, ranging from 1 to 10.\n",
    "- Total Spent: Only 11,971 non-null entries, indicating missing values that need to be addressed. The average spending is \\\\$129.65. The standard deviation suggests a spread in the data, with a minimum spending of \\\\$5 and a maximum of \\\\$410.\n",
    "- Transaction ID: There are 12,575 unique transaction IDs, indicating that each transaction ID corresponds to a single item category.\n",
    "- Customer ID: There are 25 unique customer IDs, suggesting repeat purchases by some customers. CUST_05 is the top customer, with 544 purchases.\n",
    "- Category: There are 8 unique categories, with Furniture being the most frequently purchased category, totaling 1,591 transactions.\n",
    "- Item: Only 11,362 non-null entries, meaning there are missing values to be addressed. There are 200 unique items, with Item_2_BEV being the top-selling item, purchased 126 times.\n",
    "- Payment Method: There are 3 types of payment methods, which are Digital Wallet, Credit Card, and Cash. Cash is the most popular choice, used 4,310 times.\n",
    "- Location: There are 2 types of transaction locations, which are Online and In-store. Online is the most popular, with 6,354 transactions.\n",
    "- Transaction Date: There are 1,114 unique transaction dates, with the highest sales occurring on May 30, 2022, with 26 transactions.\n",
    "- Discount Applied: Only 8,376 non-null entries, indicating missing values that need to be addressed. A total of 4,219 transactions received a discount."
   ]
  },
  {
   "cell_type": "markdown",
   "id": "5e22e911",
   "metadata": {},
   "source": [
    "# Data Cleaning and Transformation"
   ]
  },
  {
   "cell_type": "markdown",
   "id": "d20db2c5",
   "metadata": {},
   "source": [
    "## Handling Missing Values"
   ]
  },
  {
   "cell_type": "code",
   "execution_count": 11,
   "id": "2a6305e6",
   "metadata": {},
   "outputs": [
    {
     "data": {
      "text/plain": [
       "Transaction ID       0.000000\n",
       "Customer ID          0.000000\n",
       "Category             0.000000\n",
       "Item                 9.646123\n",
       "Price Per Unit       4.842942\n",
       "Quantity             4.803181\n",
       "Total Spent          4.803181\n",
       "Payment Method       0.000000\n",
       "Location             0.000000\n",
       "Transaction Date     0.000000\n",
       "Discount Applied    33.391650\n",
       "dtype: float64"
      ]
     },
     "execution_count": 11,
     "metadata": {},
     "output_type": "execute_result"
    }
   ],
   "source": [
    "# Calculate the percentage of missing values for each column\n",
    "df.isnull().sum() / len(df) * 100"
   ]
  },
  {
   "cell_type": "code",
   "execution_count": 12,
   "id": "57076083",
   "metadata": {},
   "outputs": [],
   "source": [
    "# Fill missing values in the Price Per Unit, Quantity, and Total Spent columns.\n",
    "df['Price Per Unit'] = df['Price Per Unit'].fillna(df['Total Spent'] / df['Quantity'])\n",
    "df['Total Spent'] = df['Total Spent'].fillna(df['Quantity'] * df['Price Per Unit'])\n",
    "df['Quantity'] = df['Quantity'].fillna(df['Total Spent'] / df['Price Per Unit'])"
   ]
  },
  {
   "cell_type": "code",
   "execution_count": 13,
   "id": "4cd4f687",
   "metadata": {},
   "outputs": [
    {
     "data": {
      "text/plain": [
       "Transaction ID       0.000000\n",
       "Customer ID          0.000000\n",
       "Category             0.000000\n",
       "Item                 9.646123\n",
       "Price Per Unit       0.000000\n",
       "Quantity             4.803181\n",
       "Total Spent          4.803181\n",
       "Payment Method       0.000000\n",
       "Location             0.000000\n",
       "Transaction Date     0.000000\n",
       "Discount Applied    33.391650\n",
       "dtype: float64"
      ]
     },
     "execution_count": 13,
     "metadata": {},
     "output_type": "execute_result"
    }
   ],
   "source": [
    "# Recheck for any missing values\n",
    "df.isnull().sum() / len(df) * 100"
   ]
  },
  {
   "cell_type": "markdown",
   "id": "351f0777",
   "metadata": {},
   "source": [
    "It is observed that the remaining missing values are in the Quantity and Total Spent columns. Since both are empty, we can simply remove the rows where both values are missing."
   ]
  },
  {
   "cell_type": "code",
   "execution_count": 14,
   "id": "b2021117",
   "metadata": {},
   "outputs": [],
   "source": [
    "df = df.dropna(subset=['Quantity', 'Total Spent'], how='all')"
   ]
  },
  {
   "cell_type": "markdown",
   "id": "201a5f41",
   "metadata": {},
   "source": [
    "The Item column is crucial for data analysis, so we can remove the 9% of missing data to ensure more accurate and meaningful insights."
   ]
  },
  {
   "cell_type": "code",
   "execution_count": 15,
   "id": "2654563d",
   "metadata": {},
   "outputs": [],
   "source": [
    "df = df.dropna(subset=['Item'])"
   ]
  },
  {
   "cell_type": "markdown",
   "id": "35404561",
   "metadata": {},
   "source": [
    "Since 33% of the values in the Discount Applied column are missing, we will assume that no discount was given."
   ]
  },
  {
   "cell_type": "code",
   "execution_count": 16,
   "id": "3b225e6e",
   "metadata": {},
   "outputs": [],
   "source": [
    "df['Discount Applied'] = df['Discount Applied'].fillna('False')"
   ]
  },
  {
   "cell_type": "code",
   "execution_count": 17,
   "id": "4ed7e123",
   "metadata": {},
   "outputs": [
    {
     "data": {
      "text/plain": [
       "0"
      ]
     },
     "execution_count": 17,
     "metadata": {},
     "output_type": "execute_result"
    }
   ],
   "source": [
    "# Verify the removal of missing values\n",
    "df.isnull().sum().sum()"
   ]
  },
  {
   "cell_type": "markdown",
   "id": "fc111f2b",
   "metadata": {},
   "source": [
    "## Handling Duplicates"
   ]
  },
  {
   "cell_type": "code",
   "execution_count": 18,
   "id": "10c5288d",
   "metadata": {},
   "outputs": [
    {
     "data": {
      "text/plain": [
       "0"
      ]
     },
     "execution_count": 18,
     "metadata": {},
     "output_type": "execute_result"
    }
   ],
   "source": [
    "# Check for duplicates in the data\n",
    "df.duplicated().sum()"
   ]
  },
  {
   "cell_type": "markdown",
   "id": "c956ff67",
   "metadata": {},
   "source": [
    "It appears that there are no duplicate records in this dataset."
   ]
  },
  {
   "cell_type": "markdown",
   "id": "6cf9263a",
   "metadata": {},
   "source": [
    "## Converting Data Types\n",
    "The Transaction Date and Discount Applied columns are still in Object format, so they need to be converted accordingly."
   ]
  },
  {
   "cell_type": "code",
   "execution_count": 22,
   "id": "fd908b72",
   "metadata": {},
   "outputs": [
    {
     "data": {
      "text/plain": [
       "0       2024-04-08\n",
       "1       2023-07-23\n",
       "2       2022-10-05\n",
       "3       2022-05-07\n",
       "4       2022-10-02\n",
       "           ...    \n",
       "12570   2023-09-03\n",
       "12571   2022-08-12\n",
       "12572   2024-08-24\n",
       "12573   2023-12-30\n",
       "12574   2022-08-06\n",
       "Name: Transaction Date, Length: 11362, dtype: datetime64[ns]"
      ]
     },
     "execution_count": 22,
     "metadata": {},
     "output_type": "execute_result"
    }
   ],
   "source": [
    "# Check the date format of the Transaction Date column\n",
    "df['Transaction Date']"
   ]
  },
  {
   "cell_type": "code",
   "execution_count": 23,
   "id": "5c21444f",
   "metadata": {},
   "outputs": [],
   "source": [
    "df['Transaction Date'] = pd.to_datetime(df['Transaction Date'], format='%Y-%m-%d')\n",
    "df['Discount Applied'] = df['Discount Applied'].astype(bool)"
   ]
  },
  {
   "cell_type": "code",
   "execution_count": 27,
   "id": "72977898",
   "metadata": {},
   "outputs": [
    {
     "data": {
      "text/plain": [
       "Transaction ID              object\n",
       "Customer ID                 object\n",
       "Category                    object\n",
       "Item                        object\n",
       "Price Per Unit             float64\n",
       "Quantity                   float64\n",
       "Total Spent                float64\n",
       "Payment Method              object\n",
       "Location                    object\n",
       "Transaction Date    datetime64[ns]\n",
       "Discount Applied              bool\n",
       "dtype: object"
      ]
     },
     "execution_count": 27,
     "metadata": {},
     "output_type": "execute_result"
    }
   ],
   "source": [
    "# Recheck the data types of each column\n",
    "df.dtypes"
   ]
  },
  {
   "cell_type": "markdown",
   "id": "1de34274",
   "metadata": {},
   "source": [
    "## Validating Data Consistency"
   ]
  },
  {
   "cell_type": "code",
   "execution_count": 29,
   "id": "937a3807",
   "metadata": {},
   "outputs": [
    {
     "data": {
      "text/html": [
       "<div>\n",
       "<style scoped>\n",
       "    .dataframe tbody tr th:only-of-type {\n",
       "        vertical-align: middle;\n",
       "    }\n",
       "\n",
       "    .dataframe tbody tr th {\n",
       "        vertical-align: top;\n",
       "    }\n",
       "\n",
       "    .dataframe thead th {\n",
       "        text-align: right;\n",
       "    }\n",
       "</style>\n",
       "<table border=\"1\" class=\"dataframe\">\n",
       "  <thead>\n",
       "    <tr style=\"text-align: right;\">\n",
       "      <th></th>\n",
       "      <th>Transaction ID</th>\n",
       "      <th>Customer ID</th>\n",
       "      <th>Category</th>\n",
       "      <th>Item</th>\n",
       "      <th>Price Per Unit</th>\n",
       "      <th>Quantity</th>\n",
       "      <th>Total Spent</th>\n",
       "      <th>Payment Method</th>\n",
       "      <th>Location</th>\n",
       "      <th>Transaction Date</th>\n",
       "      <th>Discount Applied</th>\n",
       "      <th>Calculated Total</th>\n",
       "    </tr>\n",
       "  </thead>\n",
       "  <tbody>\n",
       "    <tr>\n",
       "      <th>0</th>\n",
       "      <td>TXN_6867343</td>\n",
       "      <td>CUST_09</td>\n",
       "      <td>Patisserie</td>\n",
       "      <td>Item_10_PAT</td>\n",
       "      <td>18.5</td>\n",
       "      <td>10.0</td>\n",
       "      <td>185.0</td>\n",
       "      <td>Digital Wallet</td>\n",
       "      <td>Online</td>\n",
       "      <td>2024-04-08</td>\n",
       "      <td>True</td>\n",
       "      <td>185.0</td>\n",
       "    </tr>\n",
       "    <tr>\n",
       "      <th>1</th>\n",
       "      <td>TXN_3731986</td>\n",
       "      <td>CUST_22</td>\n",
       "      <td>Milk Products</td>\n",
       "      <td>Item_17_MILK</td>\n",
       "      <td>29.0</td>\n",
       "      <td>9.0</td>\n",
       "      <td>261.0</td>\n",
       "      <td>Digital Wallet</td>\n",
       "      <td>Online</td>\n",
       "      <td>2023-07-23</td>\n",
       "      <td>True</td>\n",
       "      <td>261.0</td>\n",
       "    </tr>\n",
       "    <tr>\n",
       "      <th>2</th>\n",
       "      <td>TXN_9303719</td>\n",
       "      <td>CUST_02</td>\n",
       "      <td>Butchers</td>\n",
       "      <td>Item_12_BUT</td>\n",
       "      <td>21.5</td>\n",
       "      <td>2.0</td>\n",
       "      <td>43.0</td>\n",
       "      <td>Credit Card</td>\n",
       "      <td>Online</td>\n",
       "      <td>2022-10-05</td>\n",
       "      <td>False</td>\n",
       "      <td>43.0</td>\n",
       "    </tr>\n",
       "    <tr>\n",
       "      <th>3</th>\n",
       "      <td>TXN_9458126</td>\n",
       "      <td>CUST_06</td>\n",
       "      <td>Beverages</td>\n",
       "      <td>Item_16_BEV</td>\n",
       "      <td>27.5</td>\n",
       "      <td>9.0</td>\n",
       "      <td>247.5</td>\n",
       "      <td>Credit Card</td>\n",
       "      <td>Online</td>\n",
       "      <td>2022-05-07</td>\n",
       "      <td>True</td>\n",
       "      <td>247.5</td>\n",
       "    </tr>\n",
       "    <tr>\n",
       "      <th>4</th>\n",
       "      <td>TXN_4575373</td>\n",
       "      <td>CUST_05</td>\n",
       "      <td>Food</td>\n",
       "      <td>Item_6_FOOD</td>\n",
       "      <td>12.5</td>\n",
       "      <td>7.0</td>\n",
       "      <td>87.5</td>\n",
       "      <td>Digital Wallet</td>\n",
       "      <td>Online</td>\n",
       "      <td>2022-10-02</td>\n",
       "      <td>False</td>\n",
       "      <td>87.5</td>\n",
       "    </tr>\n",
       "  </tbody>\n",
       "</table>\n",
       "</div>"
      ],
      "text/plain": [
       "  Transaction ID Customer ID       Category          Item  Price Per Unit  \\\n",
       "0    TXN_6867343     CUST_09     Patisserie   Item_10_PAT            18.5   \n",
       "1    TXN_3731986     CUST_22  Milk Products  Item_17_MILK            29.0   \n",
       "2    TXN_9303719     CUST_02       Butchers   Item_12_BUT            21.5   \n",
       "3    TXN_9458126     CUST_06      Beverages   Item_16_BEV            27.5   \n",
       "4    TXN_4575373     CUST_05           Food   Item_6_FOOD            12.5   \n",
       "\n",
       "   Quantity  Total Spent  Payment Method Location Transaction Date  \\\n",
       "0      10.0        185.0  Digital Wallet   Online       2024-04-08   \n",
       "1       9.0        261.0  Digital Wallet   Online       2023-07-23   \n",
       "2       2.0         43.0     Credit Card   Online       2022-10-05   \n",
       "3       9.0        247.5     Credit Card   Online       2022-05-07   \n",
       "4       7.0         87.5  Digital Wallet   Online       2022-10-02   \n",
       "\n",
       "   Discount Applied  Calculated Total  \n",
       "0              True             185.0  \n",
       "1              True             261.0  \n",
       "2             False              43.0  \n",
       "3              True             247.5  \n",
       "4             False              87.5  "
      ]
     },
     "execution_count": 29,
     "metadata": {},
     "output_type": "execute_result"
    }
   ],
   "source": [
    "df['Calculated Total'] = df['Price Per Unit'] * df['Quantity']"
   ]
  },
  {
   "cell_type": "markdown",
   "id": "c507c861",
   "metadata": {},
   "source": [
    "# Feature Engineering"
   ]
  },
  {
   "cell_type": "markdown",
   "id": "52484df6",
   "metadata": {},
   "source": [
    "# Outlier Detection and Treatment"
   ]
  },
  {
   "cell_type": "markdown",
   "id": "29bfcb0f",
   "metadata": {},
   "source": [
    "# Correlation Analysis"
   ]
  }
 ],
 "metadata": {
  "kernelspec": {
   "display_name": "Python 3 (ipykernel)",
   "language": "python",
   "name": "python3"
  },
  "language_info": {
   "codemirror_mode": {
    "name": "ipython",
    "version": 3
   },
   "file_extension": ".py",
   "mimetype": "text/x-python",
   "name": "python",
   "nbconvert_exporter": "python",
   "pygments_lexer": "ipython3",
   "version": "3.11.5"
  }
 },
 "nbformat": 4,
 "nbformat_minor": 5
}
